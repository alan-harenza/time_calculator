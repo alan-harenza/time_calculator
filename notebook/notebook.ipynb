{
 "cells": [
  {
   "cell_type": "markdown",
   "metadata": {},
   "source": [
    "Premissas"
   ]
  },
  {
   "cell_type": "markdown",
   "metadata": {},
   "source": [
    "Build a Time Calculator Project\n",
    "\n",
    "Write a function named add_time that takes in two required parameters and one optional parameter:\n",
    "\n",
    "    a start time in the 12-hour clock format (ending in AM or PM)\n",
    "    a duration time that indicates the number of hours and minutes\n",
    "    (optional) a starting day of the week, case insensitive\n",
    "\n",
    "The function should add the duration time to the start time and return the result.\n",
    "\n",
    "If the result will be the next day, it should show (next day) after the time. If the result will be more than one day later, it should show (n days later) after the time, where \"n\" is the number of days later.\n",
    "\n",
    "If the function is given the optional starting day of the week parameter, then the output should display the day of the week of the result. The day of the week in the output should appear after the time and before the number of days later."
   ]
  },
  {
   "cell_type": "markdown",
   "metadata": {},
   "source": [
    "Below are some examples of different cases the function should handle. Pay close attention to the spacing and punctuation of the results.\\\n",
    "\n",
    "add_time('3:00 PM', '3:10')\n",
    "Returns: 6:10 PM\n",
    "\n",
    "add_time('11:30 AM', '2:32', 'Monday')\n",
    "Returns: 2:02 PM, Monday\n",
    "\n",
    "add_time('11:43 AM', '00:20')\n",
    "Returns: 12:03 PM\n",
    "\n",
    "add_time('10:10 PM', '3:30')\n",
    "Returns: 1:40 AM (next day)\n",
    "\n",
    "add_time('11:43 PM', '24:20', 'tueSday')\n",
    "Returns: 12:03 AM, Thursday (2 days later)\n",
    "\n",
    "add_time('6:30 PM', '205:12')\n",
    "Returns: 7:42 AM (9 days later)"
   ]
  },
  {
   "cell_type": "markdown",
   "metadata": {},
   "source": [
    "Do not import any Python libraries. Assume that the start times are valid times. The minutes in the duration time will be a whole number less than 60, but the hour can be any whole number."
   ]
  },
  {
   "cell_type": "code",
   "execution_count": 1,
   "metadata": {},
   "outputs": [],
   "source": [
    "# def add_time(start, duration, week_day = False):\n",
    "#     all_week = ['sunday', 'monday', 'tueSday', 'wednesday', 'thursday', 'friday', 'saturday']\n",
    "\n",
    "#     start_split = start.split(\"' '|:\")\n",
    "#     duration_split = duration.split(\"' '|:\")\n",
    "\n",
    "#     minute =\n",
    "\n",
    "\n",
    "\n",
    "\n",
    "#     return new_time"
   ]
  },
  {
   "cell_type": "code",
   "execution_count": 2,
   "metadata": {},
   "outputs": [],
   "source": [
    "start = '06:30 PM'\n",
    "duration = '205:12'"
   ]
  },
  {
   "cell_type": "code",
   "execution_count": 3,
   "metadata": {},
   "outputs": [],
   "source": [
    "start_replace = start.replace(':', ' ')\n",
    "duration_replace = duration.replace(':', ' ')"
   ]
  },
  {
   "cell_type": "code",
   "execution_count": 4,
   "metadata": {},
   "outputs": [],
   "source": [
    "start_split = start_replace.split()\n",
    "duration_split = duration_replace.split()\n"
   ]
  },
  {
   "cell_type": "code",
   "execution_count": 5,
   "metadata": {},
   "outputs": [
    {
     "name": "stdout",
     "output_type": "stream",
     "text": [
      "['06', '30', 'PM'] ['205', '12']\n"
     ]
    }
   ],
   "source": [
    "print(start_split, duration_split)"
   ]
  },
  {
   "cell_type": "code",
   "execution_count": 6,
   "metadata": {},
   "outputs": [
    {
     "name": "stdout",
     "output_type": "stream",
     "text": [
      "19\n"
     ]
    }
   ],
   "source": [
    "# setting a variablo to period 'AM' or 'PM'\n",
    "period = start_split[2]\n",
    "# summing our hours\n",
    "hour = int(start_split[0]) + int(duration_split[0])\n",
    "# number of days passed\n",
    "number_days = hour // 24\n",
    "# remaning hours\n",
    "new_hour = hour % 24\n",
    "# total minutes\n",
    "minutes = int(start_split[1]) + int(duration_split[1])\n",
    "\n",
    "# setting our minutes\n",
    "if minutes >= 60:\n",
    "    new_minutes = minutes - 60\n",
    "    new_hour += 1\n",
    "else: new_minutes = minutes\n",
    "print(new_hour)\n",
    "\n",
    "# setting our hours and periods\n",
    "if new_hour >= 12:\n",
    "    if period == 'PM':\n",
    "        new_period = 'AM'\n",
    "        number_days += 1\n",
    "    else:\n",
    "        new_period = 'PM'\n",
    "    \n",
    "    if new_hour > 12:\n",
    "        new_hour -= 12\n",
    "    else:\n",
    "        new_hour = new_hour\n",
    "else:\n",
    "    new_period = period\n",
    "    new_hour = new_hour\n",
    "\n",
    "if number_days == 0:\n",
    "    observation_message = f''\n",
    "elif number_days == 1:\n",
    "    observation_message = f'(next day)'\n",
    "else:\n",
    "    observation_message = f'({number_days} days later)'\n",
    "\n"
   ]
  },
  {
   "cell_type": "code",
   "execution_count": 7,
   "metadata": {},
   "outputs": [
    {
     "name": "stdout",
     "output_type": "stream",
     "text": [
      "7:42 AM (9 days later)\n"
     ]
    }
   ],
   "source": [
    "if new_minutes >=0 and new_minutes <= 9:\n",
    "    new_time = f'{new_hour}:0{new_minutes} {new_period} {observation_message}'\n",
    "else: new_time = f'{new_hour}:{new_minutes} {new_period} {observation_message}'\n",
    "\n",
    "print(new_time)"
   ]
  }
 ],
 "metadata": {
  "kernelspec": {
   "display_name": "Python 3",
   "language": "python",
   "name": "python3"
  },
  "language_info": {
   "codemirror_mode": {
    "name": "ipython",
    "version": 3
   },
   "file_extension": ".py",
   "mimetype": "text/x-python",
   "name": "python",
   "nbconvert_exporter": "python",
   "pygments_lexer": "ipython3",
   "version": "3.13.2"
  }
 },
 "nbformat": 4,
 "nbformat_minor": 2
}
